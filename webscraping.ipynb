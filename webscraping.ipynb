{
 "cells": [
  {
   "cell_type": "code",
   "execution_count": 1,
   "metadata": {},
   "outputs": [
    {
     "name": "stdout",
     "output_type": "stream",
     "text": [
      "                 period                        short_descriptions temperatures\n",
      "0             Overnight                                    Cloudy   Low: 29 °F\n",
      "1  Washington'sBirthday  Slight ChanceRain/Snowthen ShowersLikely  High: 39 °F\n",
      "2           MondayNight                                      Rain   Low: 31 °F\n",
      "3               Tuesday                          DecreasingClouds  High: 34 °F\n",
      "4          TuesdayNight                              Mostly Clear   Low: 17 °F\n",
      "5             Wednesday                              Mostly Sunny  High: 24 °F\n",
      "6        WednesdayNight                              Mostly Clear   Low: 11 °F\n",
      "7              Thursday                                     Sunny  High: 24 °F\n",
      "8         ThursdayNight                              Mostly Clear   Low: 17 °F\n"
     ]
    }
   ],
   "source": [
    "import pandas as pd\n",
    "import requests\n",
    "from bs4 import BeautifulSoup\n",
    "\n",
    "page = requests.get(\n",
    "    'https://forecast.weather.gov/MapClick.php?lat=41.8843&lon=-87.6324#.XIRQYFNKgUE'\n",
    ")\n",
    "\n",
    "soup = BeautifulSoup(page.content, 'html.parser')\n",
    "week = soup.find(id='seven-day-forecast-body')\n",
    "# print(week)\n",
    "\n",
    "items = week.find_all(class_='tombstone-container')\n",
    "# print(items[0])\n",
    "\n",
    "# print(items[0].find(class_='period-name').get_text())\n",
    "# print(items[0].find(class_='short-desc').get_text())\n",
    "# print(items[0].find(class_='temp').get_text())\n",
    "\n",
    "period_names = [item.find(class_='period-name').get_text() for item in items]\n",
    "short_descriptions = [item.find(class_='short-desc').get_text() for item in items]\n",
    "temperatures = [item.find(class_='temp').get_text() for item in items]\n",
    "\n",
    "# print(period_names)\n",
    "# print(short_descriptions)\n",
    "# print(temperatures)\n",
    "\n",
    "weather_stuff = pd.DataFrame(\n",
    "    {\n",
    "        'period': period_names,\n",
    "        'short_descriptions': short_descriptions,\n",
    "        'temperatures': temperatures,\n",
    "    })\n",
    "\n",
    "print(weather_stuff)\n",
    "\n",
    "weather_stuff.to_csv('qazi_gift_ebay.csv')"
   ]
  },
  {
   "cell_type": "code",
   "execution_count": null,
   "metadata": {},
   "outputs": [],
   "source": []
  }
 ],
 "metadata": {
  "kernelspec": {
   "display_name": "Python 3",
   "language": "python",
   "name": "python3"
  },
  "language_info": {
   "codemirror_mode": {
    "name": "ipython",
    "version": 3
   },
   "file_extension": ".py",
   "mimetype": "text/x-python",
   "name": "python",
   "nbconvert_exporter": "python",
   "pygments_lexer": "ipython3",
   "version": "3.7.4"
  }
 },
 "nbformat": 4,
 "nbformat_minor": 2
}
